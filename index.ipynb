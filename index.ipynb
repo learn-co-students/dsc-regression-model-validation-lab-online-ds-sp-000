{
 "cells": [
  {
   "cell_type": "markdown",
   "metadata": {},
   "source": [
    "# Regression Model Validation - Lab\n",
    "\n",
    "## Introduction\n",
    "\n",
    "In this lab, you'll be able to validate your Boston Housing data model using train-test split.\n",
    "\n",
    "\n",
    "## Objectives\n",
    "\n",
    "You will be able to:\n",
    "\n",
    "- Compare training and testing errors to determine if model is over or underfitting\n"
   ]
  },
  {
   "cell_type": "markdown",
   "metadata": {},
   "source": [
    "## Let's use our Boston Housing Data again!\n",
    "\n",
    "This time, let's only include the variables that were previously selected using recursive feature elimination. We included the code to preprocess below."
   ]
  },
  {
   "cell_type": "code",
   "execution_count": 25,
   "metadata": {},
   "outputs": [],
   "source": [
    "import pandas as pd\n",
    "import numpy as np\n",
    "import matplotlib.pyplot as plt\n",
    "%matplotlib inline\n",
    "from sklearn.datasets import load_boston\n",
    "\n",
    "boston = load_boston()\n",
    "\n",
    "boston_features = pd.DataFrame(boston.data, columns = boston.feature_names)\n",
    "b = boston_features['B']\n",
    "logdis = np.log(boston_features['DIS'])\n",
    "loglstat = np.log(boston_features['LSTAT'])\n",
    "\n",
    "# Min-Max scaling\n",
    "boston_features['B'] = (b-min(b))/(max(b)-min(b))\n",
    "boston_features['DIS'] = (logdis-min(logdis))/(max(logdis)-min(logdis))\n",
    "\n",
    "# Standardization\n",
    "boston_features['LSTAT'] = (loglstat-np.mean(loglstat))/np.sqrt(np.var(loglstat))"
   ]
  },
  {
   "cell_type": "code",
   "execution_count": 26,
   "metadata": {},
   "outputs": [],
   "source": [
    "X = boston_features[['CHAS', 'RM', 'DIS', 'B', 'LSTAT']]\n",
    "y = pd.DataFrame(boston.target, columns = ['target'])"
   ]
  },
  {
   "cell_type": "markdown",
   "metadata": {},
   "source": [
    "### Perform a train-test split"
   ]
  },
  {
   "cell_type": "code",
   "execution_count": 27,
   "metadata": {},
   "outputs": [],
   "source": [
    "# Split the data into training and test sets. Use the default split size\n",
    "from sklearn.model_selection import train_test_split\n",
    "x_train,x_test,y_train,y_test= train_test_split(X,y)"
   ]
  },
  {
   "cell_type": "markdown",
   "metadata": {},
   "source": [
    "### Apply your model to the train set"
   ]
  },
  {
   "cell_type": "code",
   "execution_count": 28,
   "metadata": {},
   "outputs": [],
   "source": [
    "# Importing and initialize the linear regression model class\n",
    "from sklearn.linear_model import LinearRegression"
   ]
  },
  {
   "cell_type": "code",
   "execution_count": 29,
   "metadata": {},
   "outputs": [
    {
     "data": {
      "text/plain": [
       "LinearRegression(copy_X=True, fit_intercept=True, n_jobs=None, normalize=False)"
      ]
     },
     "execution_count": 29,
     "metadata": {},
     "output_type": "execute_result"
    }
   ],
   "source": [
    "# Fit the model to train data\n",
    "\n",
    "linreg = LinearRegression()\n",
    "linreg.fit(x_train,y_train)\n"
   ]
  },
  {
   "cell_type": "markdown",
   "metadata": {},
   "source": [
    "### Calculate predictions on training and test sets"
   ]
  },
  {
   "cell_type": "code",
   "execution_count": 30,
   "metadata": {},
   "outputs": [],
   "source": [
    "# Calculate predictions on training and test sets\n",
    "y_train_hat = linreg.predict(x_train)\n",
    "y_test_hat= linreg.predict(x_test)\n"
   ]
  },
  {
   "cell_type": "markdown",
   "metadata": {},
   "source": [
    "### Calculate training and test residuals"
   ]
  },
  {
   "cell_type": "code",
   "execution_count": 31,
   "metadata": {},
   "outputs": [],
   "source": [
    "# Calculate residuals\n",
    "train_resid = y_train_hat - y_train\n",
    "test_resid = y_test_hat - y_test"
   ]
  },
  {
   "cell_type": "markdown",
   "metadata": {},
   "source": [
    "### Calculate the Mean Squared Error (MSE)\n",
    "\n",
    "A good way to compare overall performance is to compare the mean squarred error for the predicted values on the training and test sets."
   ]
  },
  {
   "cell_type": "code",
   "execution_count": 32,
   "metadata": {},
   "outputs": [],
   "source": [
    "# Import mean_squared_error from sklearn.metrics\n",
    "from sklearn.metrics import mean_squared_error"
   ]
  },
  {
   "cell_type": "code",
   "execution_count": 33,
   "metadata": {},
   "outputs": [
    {
     "name": "stdout",
     "output_type": "stream",
     "text": [
      "21.06305441013315 24.50115314051738\n"
     ]
    }
   ],
   "source": [
    "# Calculate training and test MSE\n",
    "train_mse= mean_squared_error(y_train,y_train_hat)\n",
    "test_mse= mean_squared_error(y_test,y_test_hat)\n",
    "print(train_mse,test_mse)\n"
   ]
  },
  {
   "cell_type": "markdown",
   "metadata": {},
   "source": [
    "If your test error is substantially worse than the train error, this is a sign that the model doesn't generalize well to future cases."
   ]
  },
  {
   "cell_type": "markdown",
   "metadata": {},
   "source": [
    "One simple way to demonstrate overfitting and underfitting is to alter the size of our train-test split. By default, scikit-learn allocates 25% of the data to the test set and 75% to the training set. Fitting a model on only 10% of the data is apt to lead to underfitting, while training a model on 99% of the data is apt to lead to overfitting."
   ]
  },
  {
   "cell_type": "markdown",
   "metadata": {},
   "source": [
    "# Evaluate the effect of train-test split size\n",
    "\n",
    "Iterate over a range of train-test split sizes from .5 to .95. For each of these, generate a new train/test split sample. Fit a model to the training sample and calculate both the training error and the test error (mse) for each of these splits. Plot these two curves (train error vs. training size and test error vs. training size) on a graph."
   ]
  },
  {
   "cell_type": "code",
   "execution_count": 34,
   "metadata": {},
   "outputs": [
    {
     "name": "stdout",
     "output_type": "stream",
     "text": [
      "           train       test\n",
      "count  18.000000  18.000000\n",
      "mean   20.002757  24.901729\n",
      "std     3.155048   4.351747\n",
      "min    13.415914  16.630174\n",
      "25%    19.190539  22.465238\n",
      "50%    19.937021  25.062265\n",
      "75%    21.595441  27.932143\n",
      "max    26.018031  33.596028            sizes\n",
      "count  18.000000\n",
      "mean    0.475000\n",
      "std     0.266927\n",
      "min     0.050000\n",
      "25%     0.262500\n",
      "50%     0.475000\n",
      "75%     0.687500\n",
      "max     0.900000\n"
     ]
    },
    {
     "data": {
      "text/plain": [
       "<matplotlib.collections.PathCollection at 0x7fc8d4e54c18>"
      ]
     },
     "execution_count": 34,
     "metadata": {},
     "output_type": "execute_result"
    },
    {
     "data": {
      "image/png": "[encoded data removed]",
      "text/plain": [
       "<Figure size 432x288 with 1 Axes>"
      ]
     },
     "metadata": {
      "needs_background": "light"
     },
     "output_type": "display_data"
    }
   ],
   "source": [
    "from sklearn.model_selection import train_test_split\n",
    "\n",
    "errorlist = []\n",
    "size = []\n",
    "x= 0.05\n",
    "while x < 0.95:\n",
    "    x_train,x_test,y_train,y_test= train_test_split(X,y,test_size=x)\n",
    "    linreg = LinearRegression()\n",
    "    linreg.fit(x_train,y_train)\n",
    "    y_train_hat = linreg.predict(x_train)\n",
    "    y_test_hat= linreg.predict(x_test)\n",
    "    train_mse= mean_squared_error(y_train,y_train_hat)\n",
    "    test_mse= mean_squared_error(y_test,y_test_hat)\n",
    "    size.append(x)\n",
    "    errorlist.append([train_mse,test_mse])\n",
    "    x = round((x + 0.05),2)\n",
    "    \n",
    "    \n",
    "traintesterrors = pd.DataFrame(errorlist,columns=['train','test'])\n",
    "sizeframe = pd.DataFrame(size,columns=['sizes'])\n",
    "print(traintesterrors.describe(),sizeframe.describe())\n",
    "\n",
    "plt.scatter(sizeframe,traintesterrors['train'],c='red')\n",
    "plt.scatter(sizeframe,traintesterrors['test'],c='blue')\n",
    "    \n"
   ]
  },
  {
   "cell_type": "markdown",
   "metadata": {},
   "source": [
    "# Evaluate the effect of train-test split size: Extension\n",
    "\n",
    "Repeat the previous example, but for each train-test split size, generate 100 iterations of models/errors and save the average train/test error. This will help account for any particularly good/bad models that might have resulted from poor/good splits in the data. "
   ]
  },
  {
   "cell_type": "code",
   "execution_count": 36,
   "metadata": {},
   "outputs": [
    {
     "name": "stdout",
     "output_type": "stream",
     "text": [
      "           train       test\n",
      "count  18.000000  18.000000\n",
      "mean   20.002757  24.901729\n",
      "std     3.155048   4.351747\n",
      "min    13.415914  16.630174\n",
      "25%    19.190539  22.465238\n",
      "50%    19.937021  25.062265\n",
      "75%    21.595441  27.932143\n",
      "max    26.018031  33.596028            sizes\n",
      "count  18.000000\n",
      "mean    0.475000\n",
      "std     0.266927\n",
      "min     0.050000\n",
      "25%     0.262500\n",
      "50%     0.475000\n",
      "75%     0.687500\n",
      "max     0.900000\n"
     ]
    },
    {
     "data": {
      "text/plain": [
       "<matplotlib.collections.PathCollection at 0x7fc8d3c83b70>"
      ]
     },
     "execution_count": 36,
     "metadata": {},
     "output_type": "execute_result"
    },
    {
     "data": {
      "image/png": "[encoded data removed]",
      "text/plain": [
       "<Figure size 432x288 with 1 Axes>"
      ]
     },
     "metadata": {
      "needs_background": "light"
     },
     "output_type": "display_data"
    }
   ],
   "source": [
    "collection = []\n",
    "size = []\n",
    "x= 0.05\n",
    "while x < 0.95:\n",
    "    errorlist = []\n",
    "    for j in range(1,100):\n",
    "        x_train,x_test,y_train,y_test= train_test_split(X,y,test_size=x)\n",
    "        linreg = LinearRegression()\n",
    "        linreg.fit(x_train,y_train)\n",
    "        y_train_hat = linreg.predict(x_train)\n",
    "        y_test_hat= linreg.predict(x_test)\n",
    "        train_mse= mean_squared_error(y_train,y_train_hat)\n",
    "        test_mse= mean_squared_error(y_test,y_test_hat)\n",
    "        errorlist.append([train_mse,test_mse])\n",
    "    \n",
    "    \n",
    "    saveframe = pd.DataFrame(errorlist,columns=['train','test'])\n",
    "    collection.append([saveframe['train'].mean(),saveframe['test'].mean()])   \n",
    "      \n",
    "    \n",
    "    size.append(x)\n",
    "    errorlist.append([train_mse,test_mse])\n",
    "    x = round((x + 0.05),2)\n",
    "    \n",
    "    \n",
    "coll_frame = pd.DataFrame(collection,columns=['train','test'])\n",
    "sizeframe = pd.DataFrame(size,columns=['sizes'])\n",
    "print(traintesterrors.describe(),sizeframe.describe())\n",
    "\n",
    "plt.scatter(sizeframe,coll_frame['train'],c='red')\n",
    "plt.scatter(sizeframe,coll_frame['test'],c='blue')\n",
    "    \n"
   ]
  },
  {
   "cell_type": "markdown",
   "metadata": {},
   "source": [
    "What's happening here? Evaluate your result!\n",
    "\n",
    "Looks like the optimal test size is at least 60%. Smaller test sizes than this lead to a large disparity in the MSE of the train and the test data."
   ]
  },
  {
   "cell_type": "markdown",
   "metadata": {},
   "source": [
    "##  Summary "
   ]
  },
  {
   "cell_type": "markdown",
   "metadata": {},
   "source": [
    "Congratulations! You now practiced your knowledge of MSE and used your train-test split skills to validate your model."
   ]
  }
 ],
 "metadata": {
  "kernelspec": {
   "display_name": "Python 3",
   "language": "python",
   "name": "python3"
  },
  "language_info": {
   "codemirror_mode": {
    "name": "ipython",
    "version": 3
   },
   "file_extension": ".py",
   "mimetype": "text/x-python",
   "name": "python",
   "nbconvert_exporter": "python",
   "pygments_lexer": "ipython3",
   "version": "3.6.8"
  }
 },
 "nbformat": 4,
 "nbformat_minor": 2
}
